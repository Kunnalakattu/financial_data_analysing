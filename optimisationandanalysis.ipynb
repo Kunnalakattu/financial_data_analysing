{
 "cells": [
  {
   "cell_type": "code",
   "execution_count": 1,
   "id": "2a7fd1d9",
   "metadata": {},
   "outputs": [],
   "source": [
    "import pandas as pd\n",
    "import yfinance as yf\n",
    "import requests\n",
    "import numpy as np\n",
    "from scipy.optimize import minimize"
   ]
  },
  {
   "cell_type": "code",
   "execution_count": 2,
   "id": "9033e23b",
   "metadata": {},
   "outputs": [],
   "source": [
    "class stock_fundemental_analysis:\n",
    "    def __init__(self,ticker):\n",
    "        self.ticker = ticker\n",
    "        self.url = f'https://finance.yahoo.com/quote/{ticker}?p={ticker}'\n",
    "        self.years = 5\n",
    "        \n",
    "        if not self._is_valid_ticker():\n",
    "            raise ValueError(\"Invalid ticker\")\n",
    "        \n",
    "        \n",
    "    def _is_valid_ticker(self):\n",
    "        try:\n",
    "            return bool(yf.Ticker(self.ticker).info)\n",
    "        except yf.utils.exceptions.YahooFinanceError:\n",
    "            return False\n",
    "        \n",
    "        \n",
    "    # Decorator to fetch balance sheet data\n",
    "    def decorator_balance_sheet(func):\n",
    "        def wrap_func(self,*args,**kwargs):\n",
    "            api_key = open('API.txt','r').read()\n",
    "            balance_sheet = requests.get(f\"http://financialmodelingprep.com/api/v3/balance-sheet-statement/{self.ticker}?limit={self.years}&apikey={api_key}\")\n",
    "            balance_sheet =balance_sheet.json()\n",
    "            func(self,balance_sheet,*args,**kwargs)\n",
    "        return wrap_func\n",
    "   \n",
    "    # Decorater to print the fundamenta data\n",
    "    def decorator(func):\n",
    "        def wrap_func(*arg,**kwarg):\n",
    "            hi = func(*arg,**kwarg)\n",
    "            print(hi[1])\n",
    "        return wrap_func\n",
    "    \n",
    "    \n",
    "    #Function to fetch share price from yahoo finance\n",
    "    def share_price_data(self):\n",
    "        stock_data = yf.download(self.ticker, start='2000-04-18', end='2023-05-29')['Adj Close']\n",
    "        return pd.DataFrame(stock_data)\n",
    "        \n",
    "    @decorator\n",
    "    def fundamental_data(self):\n",
    "        r = requests.get(self.url,headers ={'User-Agent':'Mozilla/5.0 (Windows NT 10.0; Win64; x64) AppleWebKit/537.36 (KHTML, like Gecko) Chrome/91.0.4472.124 Safari/537.36'})\n",
    "        data = pd.read_html(r.text)\n",
    "        return data\n",
    "    \n",
    "    # Function to analyse balance sheet data\n",
    "    @decorator_balance_sheet\n",
    "    def balance_sheet(self,balance_sheet):\n",
    "        \n",
    "        total_current_asset = balance_sheet[0][\"totalCurrentAssets\"]/1000000000\n",
    "        total_current_liabilities = balance_sheet[0][\"totalCurrentLiabilities\"]/1000000000\n",
    "        \n",
    "        \n",
    "        total_debt = balance_sheet[0]['totalDebt']\n",
    "        cash_and_equivalents = balance_sheet[0]['cashAndCashEquivalents']\n",
    "        \n",
    "        cash_debt_difference = (cash_and_equivalents - total_debt)/1000000000000\n",
    "        \n",
    "        print(f\"total current asset of {self.ticker} : {total_current_asset} Billion\")\n",
    "        print(f\"total current liabilities of {self.ticker} : {total_current_liabilities} Billion\")\n",
    "        print(f\"Cash Debt Difference : {cash_debt_difference :,} Billion\")\n",
    "        "
   ]
  },
  {
   "cell_type": "code",
   "execution_count": 3,
   "id": "35cdd78b",
   "metadata": {},
   "outputs": [],
   "source": [
    "A = stock_fundemental_analysis(\"TSM\")"
   ]
  },
  {
   "cell_type": "code",
   "execution_count": 4,
   "id": "51791ab6",
   "metadata": {},
   "outputs": [
    {
     "name": "stdout",
     "output_type": "stream",
     "text": [
      "                          0             1\n",
      "0                Market Cap      511.328B\n",
      "1         Beta (5Y Monthly)          1.24\n",
      "2            PE Ratio (TTM)         15.75\n",
      "3                 EPS (TTM)          6.26\n",
      "4             Earnings Date           NaN\n",
      "5  Forward Dividend & Yield  1.79 (1.75%)\n",
      "6          Ex-Dividend Date  Jun 15, 2023\n",
      "7             1y Target Est        102.71\n"
     ]
    }
   ],
   "source": [
    "b = A.fundamental_data()"
   ]
  },
  {
   "cell_type": "code",
   "execution_count": 5,
   "id": "d6eca96f",
   "metadata": {},
   "outputs": [
    {
     "name": "stdout",
     "output_type": "stream",
     "text": [
      "total current asset of TSM : 2052.896744 Billion\n",
      "total current liabilities of TSM : 944.226817 Billion\n",
      "Cash Debt Difference : 0.454639611 Billion\n"
     ]
    }
   ],
   "source": [
    "A.balance_sheet()"
   ]
  },
  {
   "cell_type": "code",
   "execution_count": 6,
   "id": "c63ba48c",
   "metadata": {},
   "outputs": [],
   "source": [
    "\"\"\" Objective function for optimization problem\"\"\"\n",
    "def risk_parity(weights,cov_matrix):\n",
    "    \n",
    "    portfolio_variance = np.dot(weights.T,np.dot(cov_matrix,weights))\n",
    "    risk_contributions = np.dot(cov_matrix,weights)/ np.sqrt(portfolio_variance)\n",
    "    risk_parity_score = np.sum((risk_contributions - np.mean(risk_contributions)) ** 2)\n",
    "    return risk_parity_score\n",
    "\n",
    "class allocation(stock_fundemental_analysis):\n",
    "    def __init__(self,ticker):\n",
    "        super().__init__(ticker)\n",
    "        \n",
    "        if not yf.Ticker(ticker).info:\n",
    "            raise ValueError(\"Give a valid ticker symbol\")\n",
    "    \n",
    "    # return of equity\n",
    "    def price_returns(self):\n",
    "        try:\n",
    "            share_price = super().share_price_data()\n",
    "            returns = share_price.pct_change().dropna()\n",
    "            return returns\n",
    "        except Exception as e:\n",
    "            raise ValueError(\"Error in calculating price returns:\",str(e))\n",
    "    \n",
    "    \n",
    "    # optimising the weights for max return\n",
    "    def optimisation(self): \n",
    "        try:\n",
    "            price_returns =self.price_returns()\n",
    "            cov_matrix =  price_returns.cov()\n",
    "            count =len(price_returns.columns)\n",
    "            constraints = ({'type':'eq', 'fun': lambda x: np.sum(x)-1})\n",
    "            bounds = [(0,1)]*count\n",
    "            initial_weights = np.ones(count)/count\n",
    "            np.random.seed(34)\n",
    "            result = minimize(risk_parity, initial_weights, args=(cov_matrix,), method='SLSQP', constraints=constraints, bounds=bounds)\n",
    "            optimal_weights = result.x\n",
    "            return optimal_weights\n",
    "        except Exception as e:\n",
    "            raise ValueError(\"Error in optimisation\",str(e))"
   ]
  },
  {
   "cell_type": "code",
   "execution_count": 7,
   "id": "39ac4045",
   "metadata": {},
   "outputs": [
    {
     "name": "stdout",
     "output_type": "stream",
     "text": [
      "[*********************100%***********************]  4 of 4 completed\n",
      "Optimal Weights: [33.6923921 32.2016906  0.        34.1059172]\n"
     ]
    }
   ],
   "source": [
    "a = allocation('AAPL KO TSLA TSM')\n",
    "optimal_weights = np.round(a.optimisation(),9)*100\n",
    "print(\"Optimal Weights:\", optimal_weights)"
   ]
  }
 ],
 "metadata": {
  "kernelspec": {
   "display_name": "Python 3 (ipykernel)",
   "language": "python",
   "name": "python3"
  },
  "language_info": {
   "codemirror_mode": {
    "name": "ipython",
    "version": 3
   },
   "file_extension": ".py",
   "mimetype": "text/x-python",
   "name": "python",
   "nbconvert_exporter": "python",
   "pygments_lexer": "ipython3",
   "version": "3.9.13"
  }
 },
 "nbformat": 4,
 "nbformat_minor": 5
}
